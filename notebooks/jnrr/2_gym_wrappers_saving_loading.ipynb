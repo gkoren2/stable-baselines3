{
 "cells": [
  {
   "cell_type": "markdown",
   "metadata": {
    "colab_type": "text",
    "id": "view-in-github"
   },
   "source": [
    "<a href=\"https://colab.research.google.com/github/araffin/rl-tutorial-jnrr19/blob/sb3/2_gym_wrappers_saving_loading.ipynb\" target=\"_parent\"><img src=\"https://colab.research.google.com/assets/colab-badge.svg\" alt=\"Open In Colab\"/></a>"
   ]
  },
  {
   "cell_type": "markdown",
   "metadata": {
    "colab_type": "text",
    "id": "3ezJ3Y7XRUnj"
   },
   "source": [
    "# Stable Baselines3 Tutorial - Gym wrappers, saving and loading models\n",
    "\n",
    "Github repo: https://github.com/araffin/rl-tutorial-jnrr19/tree/sb3/\n",
    "\n",
    "Stable-Baselines3: https://github.com/DLR-RM/stable-baselines3\n",
    "\n",
    "Documentation: https://stable-baselines3.readthedocs.io/en/master/\n",
    "\n",
    "RL Baselines3 zoo: https://github.com/DLR-RM/rl-baselines3-zoo\n",
    "\n",
    "\n",
    "## Introduction\n",
    "\n",
    "In this notebook, you will learn how to use *Gym Wrappers* which allow to do monitoring, normalization, limit the number of steps, feature augmentation, ...\n",
    "\n",
    "\n",
    "You will also see the *loading* and *saving* functions, and how to read the outputed files for possible exporting.\n",
    "\n",
    "## Install Dependencies and Stable Baselines3 Using Pip"
   ]
  },
  {
   "cell_type": "code",
   "execution_count": 0,
   "metadata": {
    "colab": {},
    "colab_type": "code",
    "id": "YFdlFByORUnl"
   },
   "outputs": [],
   "source": [
    "# !apt install swig\n",
    "# !pip install stable-baselines3[extra]"
   ]
  },
  {
   "cell_type": "code",
   "execution_count": 1,
   "metadata": {
    "ExecuteTime": {
     "end_time": "2020-11-07T17:48:57.601407Z",
     "start_time": "2020-11-07T17:48:56.658683Z"
    }
   },
   "outputs": [
    {
     "data": {
      "text/plain": [
       "'0.11.0a0'"
      ]
     },
     "execution_count": 1,
     "metadata": {},
     "output_type": "execute_result"
    }
   ],
   "source": [
    "import os\n",
    "import sys\n",
    "path_to_curr_file=os.path.realpath(os.getcwd())\n",
    "proj_root=os.path.dirname(os.path.dirname(path_to_curr_file))\n",
    "if proj_root not in sys.path:\n",
    "    sys.path.insert(0,proj_root)\n",
    "import stable_baselines3\n",
    "stable_baselines3.__version__"
   ]
  },
  {
   "cell_type": "code",
   "execution_count": 2,
   "metadata": {
    "ExecuteTime": {
     "end_time": "2020-11-07T17:49:00.242125Z",
     "start_time": "2020-11-07T17:49:00.237444Z"
    },
    "colab": {},
    "colab_type": "code",
    "id": "grXe85G9RUnp"
   },
   "outputs": [],
   "source": [
    "import gym\n",
    "from stable_baselines3 import A2C, SAC, PPO, TD3"
   ]
  },
  {
   "cell_type": "markdown",
   "metadata": {
    "colab_type": "text",
    "id": "hMPAn1SRd32f"
   },
   "source": [
    "# Saving and loading\n",
    "\n",
    "Saving and loading stable-baselines models is straightforward: you can directly call `.save()` and `.load()` on the models."
   ]
  },
  {
   "cell_type": "code",
   "execution_count": 11,
   "metadata": {
    "ExecuteTime": {
     "end_time": "2020-11-07T17:56:07.308999Z",
     "start_time": "2020-11-07T17:55:45.645417Z"
    },
    "colab": {},
    "colab_type": "code",
    "id": "vBNFnN4Gd32g"
   },
   "outputs": [
    {
     "name": "stdout",
     "output_type": "stream",
     "text": [
      "pre saved (array([0.06651051], dtype=float32), None)\n",
      "loaded (array([0.06651051], dtype=float32), None)\n"
     ]
    }
   ],
   "source": [
    "import os\n",
    "output_dir = os.path.join(os.path.expanduser('~'),'share','Data','study','sbl3')\n",
    "# Create save dir\n",
    "save_dir = os.path.join(output_dir,\"tmp/gym/\")\n",
    "os.makedirs(save_dir, exist_ok=True)\n",
    "\n",
    "model = PPO('MlpPolicy', 'Pendulum-v0', verbose=0).learn(8000)\n",
    "# The model will be saved under PPO_tutorial.zip\n",
    "model.save(save_dir + \"/PPO_tutorial\")\n",
    "\n",
    "# sample an observation from the environment\n",
    "obs = model.env.observation_space.sample()\n",
    "\n",
    "# Check prediction before saving\n",
    "print(\"pre saved\", model.predict(obs, deterministic=True))\n",
    "\n",
    "del model # delete trained model to demonstrate loading\n",
    "\n",
    "loaded_model = PPO.load(save_dir + \"/PPO_tutorial\")\n",
    "# Check that the prediction is the same after loading (for the same observation)\n",
    "print(\"loaded\", loaded_model.predict(obs, deterministic=True))"
   ]
  },
  {
   "cell_type": "markdown",
   "metadata": {
    "colab_type": "text",
    "id": "gXWPrVqId32o"
   },
   "source": [
    "Saving in stable-baselines is quite powerful, as you save the training hyperparameters, with the current weights. This means in practice, you can simply load a custom model, without redefining the parameters, and continue learning.\n",
    "\n",
    "The loading function can also update the model's class variables when loading."
   ]
  },
  {
   "cell_type": "code",
   "execution_count": 12,
   "metadata": {
    "ExecuteTime": {
     "end_time": "2020-11-07T17:57:35.073846Z",
     "start_time": "2020-11-07T17:57:09.833894Z"
    },
    "colab": {},
    "colab_type": "code",
    "id": "LCtxrAbXd32q"
   },
   "outputs": [
    {
     "name": "stdout",
     "output_type": "stream",
     "text": [
      "loaded: gamma = 0.9 n_steps = 20\n"
     ]
    },
    {
     "data": {
      "text/plain": [
       "<stable_baselines3.a2c.a2c.A2C at 0x7f782284ec90>"
      ]
     },
     "execution_count": 12,
     "metadata": {},
     "output_type": "execute_result"
    }
   ],
   "source": [
    "import os\n",
    "from stable_baselines3.common.vec_env import DummyVecEnv\n",
    "\n",
    "# Create save dir\n",
    "save_dir = os.path.join(output_dir,\"tmp/gym/\")\n",
    "os.makedirs(save_dir, exist_ok=True)\n",
    "\n",
    "model = A2C('MlpPolicy', 'Pendulum-v0', verbose=0, gamma=0.9, n_steps=20).learn(8000)\n",
    "# The model will be saved under A2C_tutorial.zip\n",
    "model.save(save_dir + \"/A2C_tutorial\")\n",
    "\n",
    "del model # delete trained model to demonstrate loading\n",
    "\n",
    "# load the model, and when loading set verbose to 1\n",
    "loaded_model = A2C.load(save_dir + \"/A2C_tutorial\", verbose=1)\n",
    "\n",
    "# show the save hyperparameters\n",
    "print(\"loaded:\", \"gamma =\", loaded_model.gamma, \"n_steps =\", loaded_model.n_steps)\n",
    "\n",
    "# as the environment is not serializable, we need to set a new instance of the environment\n",
    "loaded_model.set_env(DummyVecEnv([lambda: gym.make('Pendulum-v0')]))\n",
    "# and continue training\n",
    "loaded_model.learn(8000)"
   ]
  },
  {
   "cell_type": "markdown",
   "metadata": {
    "colab_type": "text",
    "id": "hKwupU-Jgxjm"
   },
   "source": [
    "# Gym and VecEnv wrappers"
   ]
  },
  {
   "cell_type": "markdown",
   "metadata": {
    "colab_type": "text",
    "id": "ds4AAfmISQIA"
   },
   "source": [
    "## Anatomy of a gym wrapper"
   ]
  },
  {
   "cell_type": "markdown",
   "metadata": {
    "colab_type": "text",
    "id": "gnTS9e9hTzZZ"
   },
   "source": [
    "A gym wrapper follows the [gym](https://stable-baselines.readthedocs.io/en/master/guide/custom_env.html) interface: it has a `reset()` and `step()` method.\n",
    "\n",
    "Because a wrapper is *around* an environment, we can access it with `self.env`, this allow to easily interact with it without modifying the original env.\n",
    "There are many wrappers that have been predefined, for a complete list refer to [gym documentation](https://github.com/openai/gym/tree/master/gym/wrappers)"
   ]
  },
  {
   "cell_type": "code",
   "execution_count": 13,
   "metadata": {
    "ExecuteTime": {
     "end_time": "2020-11-07T17:58:22.688222Z",
     "start_time": "2020-11-07T17:58:22.678160Z"
    },
    "colab": {},
    "colab_type": "code",
    "id": "hYo0C0TQSL3c"
   },
   "outputs": [],
   "source": [
    "class CustomWrapper(gym.Wrapper):\n",
    "    \"\"\"\n",
    "    :param env: (gym.Env) Gym environment that will be wrapped\n",
    "    \"\"\"\n",
    "    def __init__(self, env):\n",
    "        # Call the parent constructor, so we can access self.env later\n",
    "        super(CustomWrapper, self).__init__(env)\n",
    "  \n",
    "    def reset(self):\n",
    "        \"\"\"\n",
    "        Reset the environment \n",
    "        \"\"\"\n",
    "        obs = self.env.reset()\n",
    "        return obs\n",
    "\n",
    "    def step(self, action):\n",
    "        \"\"\"\n",
    "        :param action: ([float] or int) Action taken by the agent\n",
    "        :return: (np.ndarray, float, bool, dict) observation, reward, is the episode over?, additional informations\n",
    "        \"\"\"\n",
    "        obs, reward, done, info = self.env.step(action)\n",
    "        return obs, reward, done, info\n"
   ]
  },
  {
   "cell_type": "markdown",
   "metadata": {
    "colab_type": "text",
    "id": "4zeGuyICUN26"
   },
   "source": [
    "## First example: limit the episode length\n",
    "\n",
    "One practical use case of a wrapper is when you want to limit the number of steps by episode, for that you will need to overwrite the `done` signal when the limit is reached. It is also a good practice to pass that information in the `info` dictionnary."
   ]
  },
  {
   "cell_type": "code",
   "execution_count": 14,
   "metadata": {
    "ExecuteTime": {
     "end_time": "2020-11-07T17:59:58.312760Z",
     "start_time": "2020-11-07T17:59:58.298909Z"
    },
    "colab": {},
    "colab_type": "code",
    "id": "Eb2U4_K6SNUx"
   },
   "outputs": [],
   "source": [
    "class TimeLimitWrapper(gym.Wrapper):\n",
    "    \"\"\"\n",
    "    :param env: (gym.Env) Gym environment that will be wrapped\n",
    "    :param max_steps: (int) Max number of steps per episode\n",
    "    \"\"\"\n",
    "    def __init__(self, env, max_steps=100):\n",
    "        # Call the parent constructor, so we can access self.env later\n",
    "        super(TimeLimitWrapper, self).__init__(env)\n",
    "        self.max_steps = max_steps\n",
    "        # Counter of steps per episode\n",
    "        self.current_step = 0\n",
    "  \n",
    "    def reset(self):\n",
    "        \"\"\"\n",
    "        Reset the environment \n",
    "        \"\"\"\n",
    "        # Reset the counter\n",
    "        self.current_step = 0\n",
    "        return self.env.reset()\n",
    "\n",
    "    def step(self, action):\n",
    "        \"\"\"\n",
    "        :param action: ([float] or int) Action taken by the agent\n",
    "        :return: (np.ndarray, float, bool, dict) observation, reward, is the episode over?, additional informations\n",
    "        \"\"\"\n",
    "        self.current_step += 1\n",
    "        obs, reward, done, info = self.env.step(action)\n",
    "        # Overwrite the done signal when \n",
    "        if self.current_step >= self.max_steps:\n",
    "            done = True\n",
    "            # Update the info dict to signal that the limit was exceeded\n",
    "            info['time_limit_reached'] = True\n",
    "        return obs, reward, done, info\n"
   ]
  },
  {
   "cell_type": "markdown",
   "metadata": {
    "colab_type": "text",
    "id": "oZufaUJwVM9w"
   },
   "source": [
    "#### Test the wrapper"
   ]
  },
  {
   "cell_type": "code",
   "execution_count": 15,
   "metadata": {
    "ExecuteTime": {
     "end_time": "2020-11-07T18:00:23.687093Z",
     "start_time": "2020-11-07T18:00:23.679267Z"
    },
    "colab": {},
    "colab_type": "code",
    "id": "szZ43D5PVB07"
   },
   "outputs": [],
   "source": [
    "from gym.envs.classic_control.pendulum import PendulumEnv\n",
    "\n",
    "# Here we create the environment directly because gym.make() already wrap the environement in a TimeLimit wrapper otherwise\n",
    "env = PendulumEnv()\n",
    "# Wrap the environment\n",
    "env = TimeLimitWrapper(env, max_steps=100)"
   ]
  },
  {
   "cell_type": "code",
   "execution_count": 16,
   "metadata": {
    "ExecuteTime": {
     "end_time": "2020-11-07T18:00:44.457877Z",
     "start_time": "2020-11-07T18:00:44.424804Z"
    },
    "colab": {},
    "colab_type": "code",
    "id": "cencka9iVg9V"
   },
   "outputs": [
    {
     "name": "stdout",
     "output_type": "stream",
     "text": [
      "100 {'time_limit_reached': True}\n"
     ]
    }
   ],
   "source": [
    "obs = env.reset()\n",
    "done = False\n",
    "n_steps = 0\n",
    "while not done:\n",
    "    # Take random actions\n",
    "    random_action = env.action_space.sample()\n",
    "    obs, reward, done, info = env.step(random_action)\n",
    "    n_steps += 1\n",
    "\n",
    "print(n_steps, info)"
   ]
  },
  {
   "cell_type": "markdown",
   "metadata": {
    "colab_type": "text",
    "id": "jkMYA63sV9aA"
   },
   "source": [
    "In practice, `gym` already have a wrapper for that named `TimeLimit` (`gym.wrappers.TimeLimit`) that is used by most environments."
   ]
  },
  {
   "cell_type": "markdown",
   "metadata": {
    "colab_type": "text",
    "id": "VIIJbSyQW9R-"
   },
   "source": [
    "## Second example: normalize actions\n",
    "\n",
    "It is usually a good idea to normalize observations and actions before giving it to the agent, this prevent [hard to debug issue](https://github.com/hill-a/stable-baselines/issues/473).\n",
    "\n",
    "In this example, we are going to normalize the action space of *Pendulum-v0* so it lies in [-1, 1] instead of [-2, 2].\n",
    "\n",
    "Note: here we are dealing with continuous actions, hence the `gym.Box` space"
   ]
  },
  {
   "cell_type": "code",
   "execution_count": 17,
   "metadata": {
    "ExecuteTime": {
     "end_time": "2020-11-07T18:10:56.824155Z",
     "start_time": "2020-11-07T18:10:56.807505Z"
    },
    "colab": {},
    "colab_type": "code",
    "id": "F5E6kZfzW8vy"
   },
   "outputs": [],
   "source": [
    "import numpy as np\n",
    "\n",
    "class NormalizeActionWrapper(gym.Wrapper):\n",
    "    \"\"\"\n",
    "    :param env: (gym.Env) Gym environment that will be wrapped\n",
    "    \"\"\"\n",
    "    def __init__(self, env):\n",
    "        # Retrieve the action space\n",
    "        action_space = env.action_space\n",
    "        assert isinstance(action_space, gym.spaces.Box), \"This wrapper only works with continuous action space (spaces.Box)\"\n",
    "        # Retrieve the max/min values\n",
    "        self.low, self.high = action_space.low, action_space.high\n",
    "\n",
    "        # We modify the action space, so all actions will lie in [-1, 1]\n",
    "        env.action_space = gym.spaces.Box(low=-1, high=1, shape=action_space.shape, dtype=np.float32)\n",
    "\n",
    "        # Call the parent constructor, so we can access self.env later\n",
    "        super(NormalizeActionWrapper, self).__init__(env)\n",
    "  \n",
    "    def rescale_action(self, scaled_action):\n",
    "        \"\"\"\n",
    "        Rescale the action from [-1, 1] to [low, high]\n",
    "        (no need for symmetric action space)\n",
    "        :param scaled_action: (np.ndarray)\n",
    "        :return: (np.ndarray)\n",
    "        \"\"\"\n",
    "        return self.low + (0.5 * (scaled_action + 1.0) * (self.high -  self.low))\n",
    "\n",
    "    def reset(self):\n",
    "        \"\"\"\n",
    "        Reset the environment \n",
    "        \"\"\"\n",
    "        # Reset the counter\n",
    "        return self.env.reset()\n",
    "\n",
    "    def step(self, action):\n",
    "        \"\"\"\n",
    "        :param action: ([float] or int) Action taken by the agent\n",
    "        :return: (np.ndarray, float, bool, dict) observation, reward, is the episode over?, additional informations\n",
    "        \"\"\"\n",
    "        # Rescale action from [-1, 1] to original [low, high] interval\n",
    "        rescaled_action = self.rescale_action(action)\n",
    "        obs, reward, done, info = self.env.step(rescaled_action)\n",
    "        return obs, reward, done, info\n"
   ]
  },
  {
   "cell_type": "markdown",
   "metadata": {
    "colab_type": "text",
    "id": "TmJ0eahNaR6K"
   },
   "source": [
    "#### Test before rescaling actions"
   ]
  },
  {
   "cell_type": "code",
   "execution_count": 18,
   "metadata": {
    "ExecuteTime": {
     "end_time": "2020-11-07T18:11:04.593410Z",
     "start_time": "2020-11-07T18:11:04.577427Z"
    },
    "colab": {},
    "colab_type": "code",
    "id": "UEnjBwisaQIx"
   },
   "outputs": [
    {
     "name": "stdout",
     "output_type": "stream",
     "text": [
      "[-2.]\n",
      "[1.9651746]\n",
      "[-1.0854412]\n",
      "[-1.1056249]\n",
      "[1.3483766]\n",
      "[1.8395236]\n",
      "[0.31834376]\n",
      "[-1.8840069]\n",
      "[-0.1397737]\n",
      "[1.8065475]\n",
      "[1.9078236]\n"
     ]
    }
   ],
   "source": [
    "original_env = gym.make(\"Pendulum-v0\")\n",
    "\n",
    "print(original_env.action_space.low)\n",
    "for _ in range(10):\n",
    "    print(original_env.action_space.sample())"
   ]
  },
  {
   "cell_type": "markdown",
   "metadata": {
    "colab_type": "text",
    "id": "jvcll2L3afVd"
   },
   "source": [
    "#### Test the NormalizeAction wrapper"
   ]
  },
  {
   "cell_type": "code",
   "execution_count": 19,
   "metadata": {
    "ExecuteTime": {
     "end_time": "2020-11-07T18:11:19.731223Z",
     "start_time": "2020-11-07T18:11:19.713821Z"
    },
    "colab": {},
    "colab_type": "code",
    "id": "WsCM9AUGaeBN"
   },
   "outputs": [
    {
     "name": "stdout",
     "output_type": "stream",
     "text": [
      "[-1.]\n",
      "[-0.9651875]\n",
      "[-0.07952247]\n",
      "[-0.6028893]\n",
      "[0.7646301]\n",
      "[0.65237325]\n",
      "[0.4377256]\n",
      "[-0.0738201]\n",
      "[0.23016843]\n",
      "[0.10372037]\n",
      "[0.6582585]\n"
     ]
    }
   ],
   "source": [
    "env = NormalizeActionWrapper(gym.make(\"Pendulum-v0\"))\n",
    "\n",
    "print(env.action_space.low)\n",
    "\n",
    "for _ in range(10):\n",
    "    print(env.action_space.sample())"
   ]
  },
  {
   "cell_type": "markdown",
   "metadata": {
    "colab_type": "text",
    "id": "V5h5kk2mbGNs"
   },
   "source": [
    "#### Test with a RL algorithm\n",
    "\n",
    "We are going to use the Monitor wrapper of stable baselines, wich allow to monitor training stats (mean episode reward, mean episode length)"
   ]
  },
  {
   "cell_type": "code",
   "execution_count": 20,
   "metadata": {
    "ExecuteTime": {
     "end_time": "2020-11-07T18:11:35.679406Z",
     "start_time": "2020-11-07T18:11:35.674268Z"
    },
    "colab": {},
    "colab_type": "code",
    "id": "R9FNCN8ybOVU"
   },
   "outputs": [],
   "source": [
    "from stable_baselines3.common.monitor import Monitor\n",
    "from stable_baselines3.common.vec_env import DummyVecEnv"
   ]
  },
  {
   "cell_type": "code",
   "execution_count": 21,
   "metadata": {
    "ExecuteTime": {
     "end_time": "2020-11-07T18:11:45.909321Z",
     "start_time": "2020-11-07T18:11:45.901909Z"
    },
    "colab": {
     "base_uri": "https://localhost:8080/",
     "height": 53
    },
    "colab_type": "code",
    "id": "wutM3c1GbfGP",
    "outputId": "eda3b489-ab0f-45cd-8acd-c36835f063df"
   },
   "outputs": [],
   "source": [
    "env = Monitor(gym.make('Pendulum-v0'))\n",
    "env = DummyVecEnv([lambda: env])"
   ]
  },
  {
   "cell_type": "code",
   "execution_count": 22,
   "metadata": {
    "ExecuteTime": {
     "end_time": "2020-11-07T18:11:56.762538Z",
     "start_time": "2020-11-07T18:11:53.838832Z"
    },
    "colab": {},
    "colab_type": "code",
    "id": "8cxnE5bdaQ_3"
   },
   "outputs": [
    {
     "name": "stdout",
     "output_type": "stream",
     "text": [
      "Using cuda device\n"
     ]
    }
   ],
   "source": [
    "model = A2C(\"MlpPolicy\", env, verbose=1).learn(int(1000))"
   ]
  },
  {
   "cell_type": "markdown",
   "metadata": {
    "colab_type": "text",
    "id": "EJFSM-Drb3Wc"
   },
   "source": [
    "With the action wrapper"
   ]
  },
  {
   "cell_type": "code",
   "execution_count": 23,
   "metadata": {
    "ExecuteTime": {
     "end_time": "2020-11-07T18:12:16.651455Z",
     "start_time": "2020-11-07T18:12:16.643217Z"
    },
    "colab": {},
    "colab_type": "code",
    "id": "GszFZthob2wM"
   },
   "outputs": [],
   "source": [
    "normalized_env = Monitor(gym.make('Pendulum-v0'))\n",
    "# Note that we can use multiple wrappers\n",
    "normalized_env = NormalizeActionWrapper(normalized_env)\n",
    "normalized_env = DummyVecEnv([lambda: normalized_env])"
   ]
  },
  {
   "cell_type": "code",
   "execution_count": 24,
   "metadata": {
    "ExecuteTime": {
     "end_time": "2020-11-07T18:12:21.783196Z",
     "start_time": "2020-11-07T18:12:18.653060Z"
    },
    "colab": {},
    "colab_type": "code",
    "id": "wrKJEO4NcIMd"
   },
   "outputs": [
    {
     "name": "stdout",
     "output_type": "stream",
     "text": [
      "Using cuda device\n"
     ]
    }
   ],
   "source": [
    "model_2 = A2C(\"MlpPolicy\", normalized_env, verbose=1).learn(int(1000))"
   ]
  },
  {
   "cell_type": "markdown",
   "metadata": {
    "colab_type": "text",
    "id": "5BxqXd_6dpJx"
   },
   "source": [
    "## Additional wrappers: VecEnvWrappers\n",
    "\n",
    "In the same vein as gym wrappers, stable baselines provide wrappers for `VecEnv`. Among the different that exist (and you can create your own), you should know: \n",
    "\n",
    "- VecNormalize: it computes a running mean and standard deviation to normalize observation and returns\n",
    "- VecFrameStack: it stacks several consecutive observations (useful to integrate time in the observation, e.g. sucessive frame of an atari game)\n",
    "\n",
    "More info in the [documentation](https://stable-baselines3.readthedocs.io/en/master/guide/vec_envs.html#wrappers)\n",
    "\n",
    "Note: when using `VecNormalize` wrapper, you must save the running mean and std along with the model, otherwise you will not get proper results when loading the agent again. If you use the [rl zoo](https://github.com/DLR-RM/rl-baselines3-zoo), this is done automatically"
   ]
  },
  {
   "cell_type": "code",
   "execution_count": 25,
   "metadata": {
    "ExecuteTime": {
     "end_time": "2020-11-07T18:14:04.831710Z",
     "start_time": "2020-11-07T18:14:04.822979Z"
    },
    "colab": {},
    "colab_type": "code",
    "id": "zuIcbfv3g9dd"
   },
   "outputs": [],
   "source": [
    "from stable_baselines3.common.vec_env import VecNormalize, VecFrameStack\n",
    "\n",
    "env = DummyVecEnv([lambda: gym.make(\"Pendulum-v0\")])\n",
    "normalized_vec_env = VecNormalize(env)"
   ]
  },
  {
   "cell_type": "code",
   "execution_count": 26,
   "metadata": {
    "ExecuteTime": {
     "end_time": "2020-11-07T18:14:17.462577Z",
     "start_time": "2020-11-07T18:14:17.435791Z"
    },
    "colab": {},
    "colab_type": "code",
    "id": "-PAbu21pg90A"
   },
   "outputs": [
    {
     "name": "stdout",
     "output_type": "stream",
     "text": [
      "[[-0.00527694  0.00616744  0.00057067]] [-1.999992]\n",
      "[[-0.65529925 -0.5405193   0.99902487]] [-1.2315251]\n",
      "[[-1.2173524 -1.1682727  1.2077568]] [-0.9157799]\n",
      "[[-1.5202762 -1.5309641  1.4869303]] [-0.74434817]\n",
      "[[-1.6348554 -1.6861827  1.4533983]] [-0.65050536]\n",
      "[[-1.7181369 -1.8215219  1.5987649]] [-0.58862704]\n",
      "[[-1.7070214 -1.8726633  1.4195371]] [-0.558044]\n",
      "[[-1.6502717 -1.8903327  1.2630758]] [-0.5252843]\n",
      "[[-1.5862261 -1.9403621  1.4296852]] [-0.4952729]\n",
      "[[-1.4697304 -1.9853543  1.5101444]] [-0.48356533]\n"
     ]
    }
   ],
   "source": [
    "obs = normalized_vec_env.reset()\n",
    "for _ in range(10):\n",
    "    action = [normalized_vec_env.action_space.sample()]\n",
    "    obs, reward, _, _ = normalized_vec_env.step(action)\n",
    "    print(obs, reward)"
   ]
  },
  {
   "cell_type": "markdown",
   "metadata": {
    "colab_type": "text",
    "id": "UEpTys28Wz05"
   },
   "source": [
    "## Exercise: code you own monitor wrapper\n",
    "\n",
    "Now that you know how does a wrapper work and what you can do with it, it's time to experiment.\n",
    "\n",
    "The goal here is to create a wrapper that will monitor the training progress, storing both the episode reward (sum of reward for one episode) and episode length (number of steps in for the last episode).\n",
    "\n",
    "You will return those values using the `info` dict after each end of episode."
   ]
  },
  {
   "cell_type": "code",
   "execution_count": 32,
   "metadata": {
    "ExecuteTime": {
     "end_time": "2020-11-07T18:58:49.035039Z",
     "start_time": "2020-11-07T18:58:49.020276Z"
    },
    "colab": {},
    "colab_type": "code",
    "id": "8FWeDRd5W7hO"
   },
   "outputs": [],
   "source": [
    "class MyMonitorWrapper(gym.Wrapper):\n",
    "    \"\"\"\n",
    "    :param env: (gym.Env) Gym environment that will be wrapped\n",
    "    \"\"\"\n",
    "    def __init__(self, env):\n",
    "        # Call the parent constructor, so we can access self.env later\n",
    "        super(MyMonitorWrapper, self).__init__(env)\n",
    "        # === YOUR CODE HERE ===#\n",
    "        # Initialize the variables that will be used\n",
    "        # to store the episode length and episode reward\n",
    "        self.episode_length = 0\n",
    "        self.episode_reward = 0\n",
    "        # ====================== #\n",
    "  \n",
    "    def reset(self):\n",
    "        \"\"\"\n",
    "        Reset the environment \n",
    "        \"\"\"\n",
    "        obs = self.env.reset()\n",
    "        # === YOUR CODE HERE ===#\n",
    "        # Reset the variables\n",
    "        self.episode_length = 0\n",
    "        self.episode_reward = 0\n",
    "        # ====================== #\n",
    "        return obs\n",
    "\n",
    "    def step(self, action):\n",
    "        \"\"\"\n",
    "        :param action: ([float] or int) Action taken by the agent\n",
    "        :return: (np.ndarray, float, bool, dict) observation, reward, is the episode over?, additional informations\n",
    "        \"\"\"\n",
    "        obs, reward, done, info = self.env.step(action)\n",
    "        # === YOUR CODE HERE ===#\n",
    "        # Update the current episode reward and episode length\n",
    "        self.episode_length += 1\n",
    "        self.episode_reward += reward\n",
    "        # ====================== #\n",
    "\n",
    "        if done:\n",
    "            # === YOUR CODE HERE ===#\n",
    "            # Store the episode length and episode reward in the info dict\n",
    "            info.update({'episode_length':self.episode_length,'episode_reward':self.episode_reward})\n",
    "            # ====================== #\n",
    "        return obs, reward, done, info"
   ]
  },
  {
   "cell_type": "markdown",
   "metadata": {
    "colab_type": "text",
    "id": "d4fY4QwWXNFK"
   },
   "source": [
    "#### Test your wrapper"
   ]
  },
  {
   "cell_type": "code",
   "execution_count": 0,
   "metadata": {
    "colab": {},
    "colab_type": "code",
    "id": "bJbUG-A_liYt"
   },
   "outputs": [],
   "source": [
    "# To use LunarLander, you need to install box2d box2d-kengz (pip) and swig (apt-get)\n",
    "# !pip install box2d box2d-kengz"
   ]
  },
  {
   "cell_type": "code",
   "execution_count": 33,
   "metadata": {
    "ExecuteTime": {
     "end_time": "2020-11-07T18:58:51.930889Z",
     "start_time": "2020-11-07T18:58:51.866372Z"
    },
    "colab": {},
    "colab_type": "code",
    "id": "oWZp1olSXMUg"
   },
   "outputs": [
    {
     "name": "stdout",
     "output_type": "stream",
     "text": [
      "reward:1.4683554209927945, info: {}\n",
      "reward:-0.27325179125492016, info: {}\n",
      "reward:-2.085364526437206, info: {}\n",
      "reward:1.5233190924687403, info: {}\n",
      "reward:1.4249219925166312, info: {}\n",
      "reward:1.537682636871723, info: {}\n",
      "reward:0.14881778498312428, info: {}\n",
      "reward:0.7509820120052666, info: {}\n",
      "reward:-0.7565978232524515, info: {}\n",
      "reward:-1.3459700215774604, info: {}\n",
      "reward:0.6791455570620997, info: {}\n",
      "reward:1.5111778460104983, info: {}\n",
      "reward:-0.4291856617637382, info: {}\n",
      "reward:-2.7437364727416194, info: {}\n",
      "reward:-2.771581491492088, info: {}\n",
      "reward:-2.8573061101489143, info: {}\n",
      "reward:-3.1496797179432745, info: {}\n",
      "reward:0.6139052256416164, info: {}\n",
      "reward:-3.0232326499184863, info: {}\n",
      "reward:-0.3846756158179676, info: {}\n",
      "reward:-4.302866561995432, info: {}\n",
      "reward:1.581184446899216, info: {}\n",
      "reward:0.6199706571430283, info: {}\n",
      "reward:-0.3220596598479222, info: {}\n",
      "reward:-2.6510550827109, info: {}\n",
      "reward:1.453962956933226, info: {}\n",
      "reward:0.5403078956290983, info: {}\n",
      "reward:-1.6402352173698092, info: {}\n",
      "reward:1.3809364100468724, info: {}\n",
      "reward:-0.26707628713134457, info: {}\n",
      "reward:1.5781527731420806, info: {}\n",
      "reward:1.8531361109756699, info: {}\n",
      "reward:0.6803057619885067, info: {}\n",
      "reward:1.507692818659906, info: {}\n",
      "reward:1.7301727419315978, info: {}\n",
      "reward:-0.6825008849161509, info: {}\n",
      "reward:0.3293258518363018, info: {}\n",
      "reward:0.19768819959440975, info: {}\n",
      "reward:0.06927034110967156, info: {}\n",
      "reward:1.0035436186193476, info: {}\n",
      "reward:-0.48845820323329575, info: {}\n",
      "reward:-1.202123586180419, info: {}\n",
      "reward:0.6819576451062062, info: {}\n",
      "reward:-0.48119751936961846, info: {}\n",
      "reward:1.6643950175959048, info: {}\n",
      "reward:-0.855631444045456, info: {}\n",
      "reward:1.2911624891832616, info: {}\n",
      "reward:0.3720685069728063, info: {}\n",
      "reward:0.032814660667440876, info: {}\n",
      "reward:-0.8644802078392673, info: {}\n",
      "reward:-1.61812978629236, info: {}\n",
      "reward:0.10720250142335885, info: {}\n",
      "reward:1.4063669198096431, info: {}\n",
      "reward:-0.9440407584575883, info: {}\n",
      "reward:-0.17490467706298318, info: {}\n",
      "reward:0.6390466909186057, info: {}\n",
      "reward:0.7077211217813908, info: {}\n",
      "reward:2.4669250040320323, info: {}\n",
      "reward:-0.1101608749327454, info: {}\n",
      "reward:-0.23826349448705741, info: {}\n",
      "reward:-1.2928670251436813, info: {}\n",
      "reward:0.8771018357535467, info: {}\n",
      "reward:-1.795013601070308, info: {}\n",
      "reward:-1.0744050419654911, info: {}\n",
      "reward:-1.7511239380130224, info: {}\n",
      "reward:-1.031384407184646, info: {}\n",
      "reward:-0.5911927752242707, info: {}\n",
      "reward:-1.3178633598164993, info: {}\n",
      "reward:-1.355241771939518, info: {}\n",
      "reward:-1.8822075386468942, info: {}\n",
      "reward:-1.704799798360283, info: {}\n",
      "reward:-1.6703411331838527, info: {}\n",
      "reward:-0.786047948110081, info: {}\n",
      "reward:-0.7882898758518593, info: {}\n",
      "reward:-1.2878331600421393, info: {}\n",
      "reward:-0.19409590531020512, info: {}\n",
      "reward:-1.1172508213030017, info: {}\n",
      "reward:3.7210845862036708, info: {}\n",
      "reward:-0.541577850205897, info: {}\n",
      "reward:-0.5284206737351838, info: {}\n",
      "reward:2.5499788916679167, info: {}\n",
      "reward:-1.5169497251649489, info: {}\n",
      "reward:-0.9615192610391137, info: {}\n",
      "reward:0.43344706052233734, info: {}\n",
      "reward:-1.3208279598851504, info: {}\n",
      "reward:-2.201483279790891, info: {}\n",
      "reward:3.001744291936501, info: {}\n",
      "reward:1.1207668590292712, info: {}\n",
      "reward:-2.4033869834667017, info: {}\n",
      "reward:3.0957908079617313, info: {}\n",
      "reward:-2.573721933708923, info: {}\n",
      "reward:-1.2026807416020222, info: {}\n",
      "reward:-2.389680712901536, info: {}\n",
      "reward:-2.763738762399042, info: {}\n",
      "reward:-2.016338469048378, info: {}\n",
      "reward:-1.9908641757638748, info: {}\n",
      "reward:-1.3129908220465143, info: {}\n",
      "reward:-0.00899805007826443, info: {}\n",
      "reward:-0.9036751185354877, info: {}\n",
      "reward:-2.1152898028019806, info: {}\n",
      "reward:-0.7373462143572442, info: {}\n",
      "reward:-1.340741201959986, info: {}\n",
      "reward:-1.3118980281029167, info: {}\n",
      "reward:-1.8882169080271456, info: {}\n",
      "reward:1.2468201585844951, info: {}\n",
      "reward:-1.4359259997914933, info: {}\n",
      "reward:-1.4098518723199902, info: {}\n",
      "reward:-1.384431717271923, info: {}\n",
      "reward:2.4643169556698696, info: {}\n",
      "reward:-1.4280971995527239, info: {}\n",
      "reward:2.1171681954714474, info: {}\n",
      "reward:-1.4919170043172585, info: {}\n",
      "reward:-0.6940633154910916, info: {}\n",
      "reward:1.0093699028355558, info: {}\n",
      "reward:2.8141445450435016, info: {}\n",
      "reward:-0.6788398929094501, info: {}\n",
      "reward:-0.418168836096487, info: {}\n",
      "reward:0.5743501395147745, info: {}\n",
      "reward:0.23892520465691974, info: {}\n",
      "reward:-1.8555226569835088, info: {}\n",
      "reward:-2.3290516580388485, info: {}\n",
      "reward:-0.7158497199149554, info: {}\n",
      "reward:-0.6502373114818727, info: {}\n",
      "reward:3.285333067941946, info: {}\n",
      "reward:-1.3450378783678048, info: {}\n",
      "reward:0.02050529648773819, info: {}\n",
      "reward:-1.3956395391495278, info: {}\n",
      "reward:-2.349217597682012, info: {}\n",
      "reward:-2.5974228287155072, info: {}\n",
      "reward:-1.939200602272706, info: {}\n",
      "reward:-2.6559785545451846, info: {}\n",
      "reward:-2.214623657605557, info: {}\n",
      "reward:-2.2892948478193205, info: {}\n",
      "reward:-2.3733825111158353, info: {}\n",
      "reward:-3.381639014024897, info: {}\n",
      "reward:-2.118588963771485, info: {}\n",
      "reward:-1.8727546355521258, info: {}\n",
      "reward:-2.0105097378989556, info: {}\n",
      "reward:-2.6169117696329067, info: {}\n",
      "reward:-3.6589781697786337, info: {}\n",
      "reward:-4.171336416329978, info: {}\n",
      "reward:-3.5454566448047444, info: {}\n",
      "reward:-1.2963675506699588, info: {}\n",
      "reward:-4.883221624092953, info: {}\n",
      "reward:-5.3274814554928005, info: {}\n",
      "reward:-5.565721929337626, info: {}\n",
      "reward:-5.856210407679696, info: {}\n",
      "reward:-6.232264942047123, info: {}\n",
      "reward:-4.909997457492948, info: {}\n",
      "reward:5.540960228025438, info: {}\n",
      "reward:12.24223117482214, info: {}\n",
      "reward:93.86091347477863, info: {}\n",
      "reward:-100, info: {'episode_length': 153, 'episode_reward': -105.66469543659782}\n"
     ]
    }
   ],
   "source": [
    "env = gym.make(\"LunarLander-v2\")\n",
    "# === YOUR CODE HERE ===#\n",
    "# Wrap the environment\n",
    "m_env = MyMonitorWrapper(env)\n",
    "# Reset the environment\n",
    "m_env.reset()\n",
    "# Take random actions in the enviromnent and check\n",
    "# that it returns the correct values after the end of each episode\n",
    "done = False\n",
    "while not done:\n",
    "    act=m_env.action_space.sample()\n",
    "    obs, reward, done, info = m_env.step(act)\n",
    "    print(f\"reward:{reward}, info: {info}\")\n",
    "# ====================== #"
   ]
  },
  {
   "cell_type": "markdown",
   "metadata": {
    "colab_type": "text",
    "id": "dJ2IqSM2eOt8"
   },
   "source": [
    " # Conclusion\n",
    " \n",
    " In this notebook, we have seen:\n",
    " - how to easily save and load a model\n",
    " - what is wrapper and what we can do with it\n",
    " - how to create your own wrapper"
   ]
  },
  {
   "cell_type": "markdown",
   "metadata": {
    "colab_type": "text",
    "id": "qhWB_bHpSkas"
   },
   "source": [
    "## Wrapper Bonus: changing the observation space: a wrapper for episode of fixed length"
   ]
  },
  {
   "cell_type": "code",
   "execution_count": 0,
   "metadata": {
    "colab": {},
    "colab_type": "code",
    "id": "bBlS9YxYSpJn"
   },
   "outputs": [],
   "source": [
    "from gym.wrappers import TimeLimit\n",
    "\n",
    "class TimeFeatureWrapper(gym.Wrapper):\n",
    "    \"\"\"\n",
    "    Add remaining time to observation space for fixed length episodes.\n",
    "    See https://arxiv.org/abs/1712.00378 and https://github.com/aravindr93/mjrl/issues/13.\n",
    "\n",
    "    :param env: (gym.Env)\n",
    "    :param max_steps: (int) Max number of steps of an episode\n",
    "        if it is not wrapped in a TimeLimit object.\n",
    "    :param test_mode: (bool) In test mode, the time feature is constant,\n",
    "        equal to zero. This allow to check that the agent did not overfit this feature,\n",
    "        learning a deterministic pre-defined sequence of actions.\n",
    "    \"\"\"\n",
    "    def __init__(self, env, max_steps=1000, test_mode=False):\n",
    "        assert isinstance(env.observation_space, gym.spaces.Box)\n",
    "        # Add a time feature to the observation\n",
    "        low, high = env.observation_space.low, env.observation_space.high\n",
    "        low, high= np.concatenate((low, [0])), np.concatenate((high, [1.]))\n",
    "        env.observation_space = gym.spaces.Box(low=low, high=high, dtype=np.float32)\n",
    "\n",
    "        super(TimeFeatureWrapper, self).__init__(env)\n",
    "\n",
    "        if isinstance(env, TimeLimit):\n",
    "            self._max_steps = env._max_episode_steps\n",
    "        else:\n",
    "            self._max_steps = max_steps\n",
    "        self._current_step = 0\n",
    "        self._test_mode = test_mode\n",
    "\n",
    "    def reset(self):\n",
    "        self._current_step = 0\n",
    "        return self._get_obs(self.env.reset())\n",
    "\n",
    "    def step(self, action):\n",
    "        self._current_step += 1\n",
    "        obs, reward, done, info = self.env.step(action)\n",
    "        return self._get_obs(obs), reward, done, info\n",
    "\n",
    "    def _get_obs(self, obs):\n",
    "        \"\"\"\n",
    "        Concatenate the time feature to the current observation.\n",
    "\n",
    "        :param obs: (np.ndarray)\n",
    "        :return: (np.ndarray)\n",
    "        \"\"\"\n",
    "        # Remaining time is more general\n",
    "        time_feature = 1 - (self._current_step / self._max_steps)\n",
    "        if self._test_mode:\n",
    "            time_feature = 1.0\n",
    "        # Optionnaly: concatenate [time_feature, time_feature ** 2]\n",
    "        return np.concatenate((obs, [time_feature]))"
   ]
  },
  {
   "cell_type": "code",
   "execution_count": 0,
   "metadata": {
    "colab": {},
    "colab_type": "code",
    "id": "z-vWgkZzd4F1"
   },
   "outputs": [],
   "source": []
  },
  {
   "cell_type": "markdown",
   "metadata": {
    "colab_type": "text",
    "id": "Ojn4nvNNRUoT"
   },
   "source": [
    "## Going further - Saving format \n",
    "\n",
    "The format for saving and loading models is a zip-archived JSON dump and NumPy zip archive of the arrays:\n",
    "```\n",
    "saved_model.zip/\n",
    "├── data              JSON file of class-parameters (dictionary)\n",
    "├── parameter_list    JSON file of model parameters and their ordering (list)\n",
    "├── parameters        Bytes from numpy.savez (a zip file of the numpy arrays). ...\n",
    "    ├── ...           Being a zip-archive itself, this object can also be opened ...\n",
    "        ├── ...       as a zip-archive and browsed.\n",
    "```"
   ]
  },
  {
   "cell_type": "markdown",
   "metadata": {
    "colab_type": "text",
    "id": "QWAcc8RFRUoU"
   },
   "source": [
    "## Save and find "
   ]
  },
  {
   "cell_type": "code",
   "execution_count": 34,
   "metadata": {
    "ExecuteTime": {
     "end_time": "2020-11-07T19:04:07.806426Z",
     "start_time": "2020-11-07T19:03:48.292355Z"
    },
    "colab": {},
    "colab_type": "code",
    "id": "4tcQxzSCRUoV"
   },
   "outputs": [],
   "source": [
    "# Create save dir\n",
    "save_dir = os.path.join(output_dir,\"tmp/gym/\")\n",
    "os.makedirs(save_dir, exist_ok=True)\n",
    "\n",
    "model = PPO('MlpPolicy', 'Pendulum-v0', verbose=0).learn(8000)\n",
    "model.save(save_dir + \"/PPO_tutorial\")"
   ]
  },
  {
   "cell_type": "code",
   "execution_count": 36,
   "metadata": {
    "ExecuteTime": {
     "end_time": "2020-11-07T19:04:30.623807Z",
     "start_time": "2020-11-07T19:04:30.461829Z"
    },
    "colab": {},
    "colab_type": "code",
    "id": "rGaMNz4HRUoX"
   },
   "outputs": [
    {
     "name": "stdout",
     "output_type": "stream",
     "text": [
      "/home/gkoren2/share/Data/study/sbl3/tmp/gym/PPO_tutorial.zip\r\n"
     ]
    }
   ],
   "source": [
    "!ls {save_dir+\"PPO_tutorial*\"}"
   ]
  },
  {
   "cell_type": "code",
   "execution_count": 37,
   "metadata": {
    "ExecuteTime": {
     "end_time": "2020-11-07T19:05:04.465673Z",
     "start_time": "2020-11-07T19:05:04.456940Z"
    },
    "colab": {},
    "colab_type": "code",
    "id": "gYY3nQyyRUoa"
   },
   "outputs": [
    {
     "name": "stdout",
     "output_type": "stream",
     "text": [
      "data\n",
      "pytorch_variables.pth\n",
      "policy.pth\n",
      "policy.optimizer.pth\n",
      "_stable_baselines3_version\n"
     ]
    }
   ],
   "source": [
    "import zipfile\n",
    "\n",
    "archive = zipfile.ZipFile(save_dir+\"PPO_tutorial.zip\", 'r')\n",
    "for f in archive.filelist:\n",
    "    print(f.filename)"
   ]
  },
  {
   "cell_type": "markdown",
   "metadata": {
    "colab_type": "text",
    "id": "cPKkkTvjRUo2"
   },
   "source": [
    "## Exporting saved models\n",
    "\n",
    "And finally some futher reading for those who want to export to tensorflowJS or Java.\n",
    "\n",
    "https://stable-baselines.readthedocs.io/en/master/guide/export.html"
   ]
  }
 ],
 "metadata": {
  "colab": {
   "collapsed_sections": [],
   "include_colab_link": true,
   "name": "2_gym_wrappers_saving_loading.ipynb",
   "provenance": []
  },
  "kernelspec": {
   "display_name": "Python [conda env:sbl]",
   "language": "python",
   "name": "conda-env-sbl-py"
  },
  "language_info": {
   "codemirror_mode": {
    "name": "ipython",
    "version": 3
   },
   "file_extension": ".py",
   "mimetype": "text/x-python",
   "name": "python",
   "nbconvert_exporter": "python",
   "pygments_lexer": "ipython3",
   "version": "3.7.7"
  },
  "toc": {
   "base_numbering": 1,
   "nav_menu": {},
   "number_sections": true,
   "sideBar": true,
   "skip_h1_title": false,
   "title_cell": "Table of Contents",
   "title_sidebar": "Contents",
   "toc_cell": false,
   "toc_position": {},
   "toc_section_display": true,
   "toc_window_display": false
  }
 },
 "nbformat": 4,
 "nbformat_minor": 1
}
